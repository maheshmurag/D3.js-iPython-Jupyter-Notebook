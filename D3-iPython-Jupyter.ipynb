{
 "cells": [
  {
   "cell_type": "markdown",
   "metadata": {},
   "source": [
    "<div> A neat way to put D3.js into the iPython/Jupyter notebook</div>"
   ]
  },
  {
   "cell_type": "code",
   "execution_count": 11,
   "metadata": {
    "collapsed": false
   },
   "outputs": [
    {
     "name": "stdout",
     "output_type": "stream",
     "text": [
      "Overwriting f1.template\n"
     ]
    }
   ],
   "source": [
    "%%writefile f1.template\n",
    "<!DOCTYPE html>\n",
    "<html>\n",
    "    <meta http-equiv=\"Content-Type\" content=\"text/html;charset=utf-8\"/>\n",
    "    <script type=\"text/javascript\" src=\"http://mbostock.github.io/d3/talk/20111018/d3/d3.geom.js\"></script>\n",
    "    <script type=\"text/javascript\" src=\"http://mbostock.github.io/d3/talk/20111018/d3/d3.layout.js\"></script>\n",
    "    <style type=\"text/css\">\n",
    "    </style>\n",
    "  \n",
    "<body>\n",
    "<!-- nice simple setup template for D3.js -->\n",
    "    <div id=\"body\">\n",
    "    <script src=\"http://d3js.org/d3.v3.min.js\"></script>\n",
    "        <style>\n",
    "            .node {\n",
    "                stroke: #fff;\n",
    "                stroke-width: 1.5px;\n",
    "            }\n",
    "\n",
    "            .link {\n",
    "                stroke: #999;\n",
    "                stroke-opacity: .6;\n",
    "            }\n",
    "\n",
    "        </style>\n",
    "        <script>\n",
    "            //init d3\n",
    "            var width = 960,\n",
    "                height = 500;\n",
    "            var color = d3.scale.category20();\n",
    "            var force = d3.layout.force()\n",
    "            .charge(-120)\n",
    "            .linkDistance(30)\n",
    "            .size([width, height])\n",
    "            .on(\"tick\", tick);\n",
    "            var svg = d3.select(\"body\").append(\"canvas\")\n",
    "            .attr(\"width\", width)\n",
    "            .attr(\"height\", height);\n",
    "            var context = svg.node().getContext(\"2d\");\n",
    "            var nodes = [];\n",
    "            var links = [];\n",
    "            var node = svg.selectAll(\".node\")\n",
    "            var link = svg.selectAll(\".link\")\n",
    "            readFromFile();\n",
    "        \n",
    "            //read from JSON\n",
    "            function readFromFile(){\n",
    "                var linkToJSON = \"https://gist.githubusercontent.com/maheshmurag/1d2c683d171765ba7771/raw/b8a28e7bd07377773cb86894f67fe68173cf9c0f/jsonstr.json\";\n",
    "                d3.json(linkToJSON,\n",
    "                    function(error, graph) {\n",
    "                        console.log(\"read\")\n",
    "                        if (error) throw error;\n",
    "                        for(var i = 0; i < graph.nodes.length; i++)\n",
    "                            nodes.push(graph.nodes[i])\n",
    "                        for(var i = 0; i < graph.links.length; i++)\n",
    "                            links.push(graph.links[i])\n",
    "                        start();\n",
    "                        update();\n",
    "                    }\n",
    "                );\n",
    "            }\n",
    "            \n",
    "            function tick(){\n",
    "                context.clearRect(0, 0, width, height);\n",
    "\n",
    "                link.attr(\"x1\", function(d) { return d.source.x; })\n",
    "                    .attr(\"y1\", function(d) { return d.source.y; })\n",
    "                    .attr(\"x2\", function(d) { return d.target.x; })\n",
    "                    .attr(\"y2\", function(d) { return d.target.y; });\n",
    "\n",
    "                context.strokeStyle = \"#ccc\";\n",
    "                context.beginPath();\n",
    "                links.forEach(function(d) {\n",
    "                  context.moveTo(d.source.x, d.source.y);\n",
    "                  context.lineTo(d.target.x, d.target.y);\n",
    "                });\n",
    "                context.stroke();\n",
    "\n",
    "                // draw nodes\n",
    "                context.fillStyle = \"steelblue\";\n",
    "                context.beginPath();\n",
    "                nodes.forEach(function(d) {\n",
    "                  context.moveTo(d.x, d.y);\n",
    "                  context.arc(d.x, d.y, 4.5, 0, 2 * Math.PI);\n",
    "                });\n",
    "                context.fill();\n",
    "            }\n",
    "            function start(){\n",
    "                console.log(\"called start method\")\n",
    "                force\n",
    "                    .nodes(nodes)\n",
    "                    .links(links)\n",
    "                    .start();\n",
    "            }\n",
    "            function update(){\n",
    "                link = link\n",
    "                    .data(links);\n",
    "\n",
    "                link\n",
    "                    .enter().append(\"line\")\n",
    "                    .attr(\"class\", \"link\")\n",
    "                    .style(\"stroke-width\", function(d) { return Math.sqrt(d.value); });\n",
    "\n",
    "                node = node\n",
    "                    .data(nodes);\n",
    "\n",
    "                node\n",
    "                    .enter().append(\"circle\")\n",
    "                    .attr(\"class\", \"node\")\n",
    "                    .attr(\"r\", 5)\n",
    "                    .style(\"fill\", function(d) { return color(d.group); })\n",
    "                    .call(force.drag);\n",
    "\n",
    "                node\n",
    "                    .append(\"title\")\n",
    "                    .text(function(d) { return d.name; });\n",
    "\n",
    "                node.exit().remove();\n",
    "                link.exit().remove();\n",
    "            }\n",
    "        </script>\n",
    "  </body>\n",
    "</html>"
   ]
  },
  {
   "cell_type": "code",
   "execution_count": 14,
   "metadata": {
    "collapsed": false
   },
   "outputs": [],
   "source": [
    "from IPython.display import IFrame\n",
    "import re\n",
    "\n",
    "def replace_all(txt,d):\n",
    "    rep = dict((re.escape('{'+k+'}'), str(v)) for k, v in d.items())\n",
    "    pattern = re.compile(\"|\".join(rep.keys()))\n",
    "    return pattern.sub(lambda m: rep[re.escape(m.group(0))], txt)    \n",
    "\n",
    "count=0\n",
    "def serve_html(s,w,h):\n",
    "    import os\n",
    "    global count\n",
    "    count+=1\n",
    "    fn= '__tmp'+str(os.getpid())+'_'+str(count)+'.html'\n",
    "    with open(fn,'w') as f:\n",
    "        f.write(s)\n",
    "    return IFrame('files/'+fn,w,h)\n",
    "\n",
    "def display(w=1000,h=500):\n",
    "    d={\n",
    "       'width'      :w,\n",
    "       'height'     :h,\n",
    "       }\n",
    "    with open('f1.template','r') as f:\n",
    "        s=f.read()\n",
    "        s= replace_all(s,d)        \n",
    "    return serve_html(s,w,h)"
   ]
  },
  {
   "cell_type": "code",
   "execution_count": 15,
   "metadata": {
    "collapsed": false
   },
   "outputs": [
    {
     "data": {
      "text/html": [
       "\n",
       "        <iframe\n",
       "            width=\"1000\"\n",
       "            height=\"500\"\n",
       "            src=\"files/__tmp4223_1.html\"\n",
       "            frameborder=\"0\"\n",
       "            allowfullscreen\n",
       "        ></iframe>\n",
       "        "
      ],
      "text/plain": [
       "<IPython.lib.display.IFrame at 0x103b6bd90>"
      ]
     },
     "execution_count": 15,
     "metadata": {},
     "output_type": "execute_result"
    }
   ],
   "source": [
    "#ta da! Well you can't view it from the github repo, but clone and give it a go!\n",
    "display()"
   ]
  },
  {
   "cell_type": "code",
   "execution_count": null,
   "metadata": {
    "collapsed": true
   },
   "outputs": [],
   "source": []
  },
  {
   "cell_type": "code",
   "execution_count": null,
   "metadata": {
    "collapsed": true
   },
   "outputs": [],
   "source": []
  }
 ],
 "metadata": {
  "kernelspec": {
   "display_name": "Python 2",
   "language": "python",
   "name": "python2"
  },
  "language_info": {
   "codemirror_mode": {
    "name": "ipython",
    "version": 2
   },
   "file_extension": ".py",
   "mimetype": "text/x-python",
   "name": "python",
   "nbconvert_exporter": "python",
   "pygments_lexer": "ipython2",
   "version": "2.7.10"
  }
 },
 "nbformat": 4,
 "nbformat_minor": 0
}
